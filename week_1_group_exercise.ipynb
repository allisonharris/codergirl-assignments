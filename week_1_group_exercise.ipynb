{
 "cells": [
  {
   "cell_type": "code",
   "execution_count": 1,
   "id": "87c876d1",
   "metadata": {},
   "outputs": [],
   "source": [
    "# Numeric - numbers can be either integers or floats. Integers are whole numbers while floats contain decimals\n",
    "\n",
    "# integer example\n",
    "x = 10\n",
    "\n",
    "#float example\n",
    "y= 4.98"
   ]
  },
  {
   "cell_type": "code",
   "execution_count": 3,
   "id": "b265c01a",
   "metadata": {},
   "outputs": [
    {
     "name": "stdout",
     "output_type": "stream",
     "text": [
      "9\n"
     ]
    }
   ],
   "source": [
    "#Dictionary - dictionaries are key:value pairs. A dictionary matches two elements together.\n",
    "\n",
    "#example\n",
    "outfits = {\"jeans\":3,\n",
    "          \"shirts\":9}\n",
    "\n",
    "print(outfits[\"shirts\"])"
   ]
  },
  {
   "cell_type": "code",
   "execution_count": 4,
   "id": "bde6b4f8",
   "metadata": {},
   "outputs": [
    {
     "name": "stdout",
     "output_type": "stream",
     "text": [
      "<class 'bool'>\n"
     ]
    }
   ],
   "source": [
    "#Boolean - this evaluates to either true or false\n",
    "\n",
    "#example\n",
    "is_false = True\n",
    "print(type(is_false))"
   ]
  },
  {
   "cell_type": "code",
   "execution_count": 5,
   "id": "b1d54b8e",
   "metadata": {},
   "outputs": [
    {
     "name": "stdout",
     "output_type": "stream",
     "text": [
      "{'dog', 'cat', 'parrot'}\n"
     ]
    }
   ],
   "source": [
    "#Sets - these are collections that are immutable/unchangeable and unordered\n",
    "#example\n",
    "pet_set = {\"cat\", \"dog\"}\n",
    "pet_set.add(\"parrot\")\n",
    "print(pet_set)"
   ]
  },
  {
   "cell_type": "code",
   "execution_count": 6,
   "id": "e9b02ad3",
   "metadata": {},
   "outputs": [
    {
     "data": {
      "text/plain": [
       "'M&Ms'"
      ]
     },
     "execution_count": 6,
     "metadata": {},
     "output_type": "execute_result"
    }
   ],
   "source": [
    "#List - these elements are ordered and can be changed\n",
    "#example\n",
    "candy = [\"Skittles\", \"M&Ms\", \"Reeses\"]\n",
    "candy[1]"
   ]
  },
  {
   "cell_type": "code",
   "execution_count": 7,
   "id": "594a8357",
   "metadata": {},
   "outputs": [
    {
     "name": "stdout",
     "output_type": "stream",
     "text": [
      "Toyota\n"
     ]
    }
   ],
   "source": [
    "#Tuples - these elements are ordered, but cannot be changed, meaning they are immutable\n",
    "#example\n",
    "cars_tuple = (\"Toyota\", \"Honda\", \"Suburu\")\n",
    "print(cars_tuple[0])"
   ]
  },
  {
   "cell_type": "code",
   "execution_count": null,
   "id": "b54467d2",
   "metadata": {},
   "outputs": [],
   "source": []
  }
 ],
 "metadata": {
  "kernelspec": {
   "display_name": "Python 3",
   "language": "python",
   "name": "python3"
  },
  "language_info": {
   "codemirror_mode": {
    "name": "ipython",
    "version": 3
   },
   "file_extension": ".py",
   "mimetype": "text/x-python",
   "name": "python",
   "nbconvert_exporter": "python",
   "pygments_lexer": "ipython3",
   "version": "3.8.8"
  }
 },
 "nbformat": 4,
 "nbformat_minor": 5
}
